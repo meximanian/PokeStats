{
 "cells": [
  {
   "cell_type": "code",
   "execution_count": null,
   "metadata": {},
   "outputs": [],
   "source": [
    "In the beginning, I pull information from a website that obtains the statistics of every pokemon and organize the info into \n",
    "different lists. \n",
    "The problem that happened while taking the names is that some Pokemon had different forms, but portrayed the same \n",
    "name. \n",
    "So, I had to remove the duplicates from the names using my remove function and replace it with the name of the alternative form\n",
    "with the add function.\n",
    "After that, I combined the stats of all the pokemon into one list using the combine function and labeled them.\n",
    "I took the concept from the chat bot assignment and set up a selector function and chat function that will act depending on the \n",
    "input I use.\n",
    "Finally I made the Pokedex function that will set up a bot that will display the Pokemon that was inputed.\n",
    "For example, putting 'Charmander' will give the stats for the pokemon Charmander. The Pokemon name needs to be capitalized."
   ]
  }
 ],
 "metadata": {
  "kernelspec": {
   "display_name": "Python 3",
   "language": "python",
   "name": "python3"
  },
  "language_info": {
   "codemirror_mode": {
    "name": "ipython",
    "version": 3
   },
   "file_extension": ".py",
   "mimetype": "text/x-python",
   "name": "python",
   "nbconvert_exporter": "python",
   "pygments_lexer": "ipython3",
   "version": "3.7.0"
  }
 },
 "nbformat": 4,
 "nbformat_minor": 2
}
